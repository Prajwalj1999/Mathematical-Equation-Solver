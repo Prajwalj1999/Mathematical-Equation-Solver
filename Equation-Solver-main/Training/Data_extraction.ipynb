{
 "cells": [
  {
   "cell_type": "code",
   "execution_count": 1,
   "metadata": {},
   "outputs": [],
   "source": [
    "import numpy as np\n",
    "import cv2\n",
    "from PIL import Image\n",
    "from matplotlib import pyplot as plt\n",
    "%matplotlib inline\n",
    "import os\n",
    "from os import listdir\n",
    "from os.path import isfile, join\n",
    "import pandas as pd\n",
    "import random"
   ]
  },
  {
   "cell_type": "code",
   "execution_count": 2,
   "metadata": {},
   "outputs": [],
   "source": [
    "def load_images_from_folder(folder_name):\n",
    "    train_data=[]\n",
    "    folder = 'filtered_extracted_images/' + folder_name\n",
    "    files = os.listdir(folder)\n",
    "    files_count = len(files)\n",
    "    files_filtered = files\n",
    "    filter_count = 5000\n",
    "    if files_count > filter_count:\n",
    "        random.seed(0)\n",
    "        files_filtered = random.sample(files , filter_count)\n",
    "        \n",
    "    for filename in files_filtered:\n",
    "        src_img = cv2.imread(os.path.join(folder,filename),cv2.IMREAD_GRAYSCALE)\n",
    "            \n",
    "        orig_height, orig_width = src_img.shape\n",
    "        width = 45\n",
    "        height = int(width * orig_height / orig_width)\n",
    "        src_img = cv2.resize(src_img, dsize=(width, height), interpolation=cv2.INTER_AREA)\n",
    "\n",
    "        kernel = np.ones((2,2), np.uint8)\n",
    "        src_img = cv2.erode(src_img, kernel, iterations = 1)\n",
    "        \n",
    "        PIXEL_SET = 255\n",
    "        kernel_size = 21\n",
    "        normalized_mean = 20\n",
    "        #black background\n",
    "        bin_img = cv2.adaptiveThreshold(src_img, PIXEL_SET, cv2.ADAPTIVE_THRESH_MEAN_C, cv2.THRESH_BINARY_INV, kernel_size, normalized_mean)\n",
    "        # Noise Removal\n",
    "        kernel = cv2.getStructuringElement(cv2.MORPH_ELLIPSE, (3, 3))\n",
    "        final_thr = cv2.morphologyEx(bin_img, cv2.MORPH_CLOSE, kernel)\n",
    "        \n",
    "        contours, hierarchy = cv2.findContours(final_thr, cv2.RETR_EXTERNAL, cv2.CHAIN_APPROX_SIMPLE)\n",
    "        min_x, min_y = width, height\n",
    "        max_x = max_y = 0\n",
    "        for cnt in contours:\n",
    "            (x,y,w,h) = cv2.boundingRect(cnt)\n",
    "            min_x, max_x = min(x, min_x), max(x+w, max_x)\n",
    "            min_y, max_y = min(y, min_y), max(y+h, max_y)\n",
    "        final_thr = final_thr[ min_y:max_y, min_x:max_x ]\n",
    "\n",
    "        # resize to 32*32\n",
    "        im_resize = cv2.resize(final_thr,(32,32))\n",
    "        \n",
    "        #img_seen = cv2.resize(im_resize,(200,200))\n",
    "        #cv2.imshow(\"train\", img_seen)\n",
    "        #cv2.waitKey(0)\n",
    "        # and finally destroy/close all open windows\n",
    "        #cv2.destroyAllWindows()\n",
    "        im_resize = np.reshape(im_resize,(1024, 1)) / 255.0\n",
    "        im_resize = np.where(im_resize > 0.5, 1, 0)\n",
    "        train_data.append(im_resize)\n",
    "        \n",
    "    return train_data\n",
    "        "
   ]
  },
  {
   "cell_type": "code",
   "execution_count": 3,
   "metadata": {},
   "outputs": [
    {
     "data": {
      "text/plain": [
       "'\\ndef load_images_from_folder(folder_name):\\n    train_data=[]\\n    folder = \\'filtered_extracted_images/\\' + folder_name\\n    files = os.listdir(folder)\\n    files_count = len(files)\\n    files_filtered = files\\n    filter_count = 10000\\n    if files_count > filter_count:\\n        random.seed(0)\\n        files_filtered = random.sample(files , filter_count)\\n        \\n    for filename in files_filtered:\\n        img = cv2.imread(os.path.join(folder,filename),cv2.IMREAD_GRAYSCALE)\\n        img=~img\\n        if img is not None:\\n            ret,thresh=cv2.threshold(img,127,255,cv2.THRESH_BINARY)\\n            ctrs,heirarchy=cv2.findContours(thresh,cv2.RETR_EXTERNAL,cv2.CHAIN_APPROX_NONE)\\n            cnt=sorted(ctrs, key=lambda ctr: cv2.boundingRect(ctr)[0])\\n            w=int(28)\\n            h=int(28)\\n            maxi=0\\n            for c in cnt:\\n                x,y,w,h=cv2.boundingRect(c)\\n                maxi=max(w*h,maxi)\\n                if maxi==w*h:\\n                    x_max=x\\n                    y_max=y\\n                    w_max=w\\n                    h_max=h\\n            im_crop= thresh[y_max:y_max+h_max+10, x_max:x_max+w_max+10]\\n            im_resize = cv2.resize(im_crop,(28,28))\\n            cv2.imshow(\"train\", im_resize)\\n            cv2.waitKey(0)\\n            # and finally destroy/close all open windows\\n            cv2.destroyAllWindows()\\n            im_resize = np.reshape(im_resize,(784,1))\\n\\n            train_data.append(im_resize)\\n    return train_data\\n'"
      ]
     },
     "execution_count": 3,
     "metadata": {},
     "output_type": "execute_result"
    }
   ],
   "source": [
    "'''\n",
    "def load_images_from_folder(folder_name):\n",
    "    train_data=[]\n",
    "    folder = 'filtered_extracted_images/' + folder_name\n",
    "    files = os.listdir(folder)\n",
    "    files_count = len(files)\n",
    "    files_filtered = files\n",
    "    filter_count = 10000\n",
    "    if files_count > filter_count:\n",
    "        random.seed(0)\n",
    "        files_filtered = random.sample(files , filter_count)\n",
    "        \n",
    "    for filename in files_filtered:\n",
    "        img = cv2.imread(os.path.join(folder,filename),cv2.IMREAD_GRAYSCALE)\n",
    "        img=~img\n",
    "        if img is not None:\n",
    "            ret,thresh=cv2.threshold(img,127,255,cv2.THRESH_BINARY)\n",
    "            ctrs,heirarchy=cv2.findContours(thresh,cv2.RETR_EXTERNAL,cv2.CHAIN_APPROX_NONE)\n",
    "            cnt=sorted(ctrs, key=lambda ctr: cv2.boundingRect(ctr)[0])\n",
    "            w=int(28)\n",
    "            h=int(28)\n",
    "            maxi=0\n",
    "            for c in cnt:\n",
    "                x,y,w,h=cv2.boundingRect(c)\n",
    "                maxi=max(w*h,maxi)\n",
    "                if maxi==w*h:\n",
    "                    x_max=x\n",
    "                    y_max=y\n",
    "                    w_max=w\n",
    "                    h_max=h\n",
    "            im_crop= thresh[y_max:y_max+h_max+10, x_max:x_max+w_max+10]\n",
    "            im_resize = cv2.resize(im_crop,(28,28))\n",
    "            cv2.imshow(\"train\", im_resize)\n",
    "            cv2.waitKey(0)\n",
    "            # and finally destroy/close all open windows\n",
    "            cv2.destroyAllWindows()\n",
    "            im_resize = np.reshape(im_resize,(784,1))\n",
    "\n",
    "            train_data.append(im_resize)\n",
    "    return train_data\n",
    "'''                "
   ]
  },
  {
   "cell_type": "code",
   "execution_count": 4,
   "metadata": {},
   "outputs": [],
   "source": [
    "data_len = 0\n",
    "\n",
    "import shutil\n",
    "import os\n",
    "FILENAME = 'train_final.csv'\n",
    "if FILENAME in os.listdir():\n",
    "    os.remove(FILENAME)\n",
    "\n",
    "def save_file(data):\n",
    "    df=pd.DataFrame(data,index=None)\n",
    "    if FILENAME in os.listdir():\n",
    "        df.to_csv(FILENAME, mode='a', index=False, header=False)\n",
    "    else:\n",
    "        df.to_csv(FILENAME, mode='a', index=False)\n"
   ]
  },
  {
   "cell_type": "code",
   "execution_count": 5,
   "metadata": {},
   "outputs": [
    {
     "name": "stdout",
     "output_type": "stream",
     "text": [
      "5000\n"
     ]
    }
   ],
   "source": [
    "data0=load_images_from_folder('0')\n",
    "\n",
    "for i in range(0,len(data0)):\n",
    "    data0[i]=np.append(data0[i],['0'])\n",
    "    \n",
    "save_file(data0)    \n",
    "data_len += len(data0)\n",
    "del data0\n",
    "print(data_len)\n"
   ]
  },
  {
   "cell_type": "code",
   "execution_count": 6,
   "metadata": {},
   "outputs": [
    {
     "name": "stdout",
     "output_type": "stream",
     "text": [
      "10000\n"
     ]
    }
   ],
   "source": [
    "data1=load_images_from_folder('1')\n",
    "\n",
    "for i in range(0,len(data1)):\n",
    "    data1[i]=np.append(data1[i],['1'])\n",
    "\n",
    "save_file(data1)    \n",
    "data_len += len(data1)\n",
    "del data1\n",
    "print(data_len)\n",
    "    "
   ]
  },
  {
   "cell_type": "code",
   "execution_count": 7,
   "metadata": {},
   "outputs": [
    {
     "name": "stdout",
     "output_type": "stream",
     "text": [
      "15000\n"
     ]
    }
   ],
   "source": [
    "data2=load_images_from_folder('2')\n",
    "\n",
    "for i in range(0,len(data2)):\n",
    "    data2[i]=np.append(data2[i],['2'])\n",
    "\n",
    "save_file(data2)    \n",
    "data_len += len(data2)\n",
    "del data2\n",
    "print(data_len)\n",
    "    "
   ]
  },
  {
   "cell_type": "code",
   "execution_count": 8,
   "metadata": {},
   "outputs": [
    {
     "name": "stdout",
     "output_type": "stream",
     "text": [
      "20000\n"
     ]
    }
   ],
   "source": [
    "data3=load_images_from_folder('3')\n",
    "\n",
    "for i in range(0,len(data3)):\n",
    "    data3[i]=np.append(data3[i],['3'])\n",
    "\n",
    "save_file(data3)    \n",
    "data_len += len(data3)\n",
    "del data3\n",
    "print(data_len)\n",
    "    "
   ]
  },
  {
   "cell_type": "code",
   "execution_count": 9,
   "metadata": {},
   "outputs": [
    {
     "name": "stdout",
     "output_type": "stream",
     "text": [
      "25000\n"
     ]
    }
   ],
   "source": [
    "data4=load_images_from_folder('4')\n",
    "\n",
    "for i in range(0,len(data4)):\n",
    "    data4[i]=np.append(data4[i],['4'])\n",
    "\n",
    "save_file(data4)    \n",
    "data_len += len(data4)\n",
    "del data4\n",
    "print(data_len)\n",
    "    "
   ]
  },
  {
   "cell_type": "code",
   "execution_count": 10,
   "metadata": {},
   "outputs": [
    {
     "name": "stdout",
     "output_type": "stream",
     "text": [
      "28545\n"
     ]
    }
   ],
   "source": [
    "data5=load_images_from_folder('5')\n",
    "\n",
    "for i in range(0,len(data5)):\n",
    "    data5[i]=np.append(data5[i],['5'])\n",
    "\n",
    "save_file(data5)    \n",
    "data_len += len(data5)\n",
    "del data5\n",
    "print(data_len)\n",
    "    "
   ]
  },
  {
   "cell_type": "code",
   "execution_count": 11,
   "metadata": {},
   "outputs": [
    {
     "name": "stdout",
     "output_type": "stream",
     "text": [
      "31663\n"
     ]
    }
   ],
   "source": [
    "data6=load_images_from_folder('6')\n",
    "\n",
    "for i in range(0,len(data6)):\n",
    "    data6[i]=np.append(data6[i],['6'])\n",
    "\n",
    "save_file(data6)    \n",
    "data_len += len(data6)\n",
    "del data6\n",
    "print(data_len)\n",
    "    "
   ]
  },
  {
   "cell_type": "code",
   "execution_count": 12,
   "metadata": {},
   "outputs": [
    {
     "name": "stdout",
     "output_type": "stream",
     "text": [
      "34572\n"
     ]
    }
   ],
   "source": [
    "data7=load_images_from_folder('7')\n",
    "\n",
    "for i in range(0,len(data7)):\n",
    "    data7[i]=np.append(data7[i],['7'])\n",
    "\n",
    "save_file(data7)    \n",
    "data_len += len(data7)\n",
    "del data7\n",
    "print(data_len)\n",
    "    "
   ]
  },
  {
   "cell_type": "code",
   "execution_count": 13,
   "metadata": {},
   "outputs": [
    {
     "name": "stdout",
     "output_type": "stream",
     "text": [
      "37640\n"
     ]
    }
   ],
   "source": [
    "data8=load_images_from_folder('8')\n",
    "\n",
    "for i in range(0,len(data8)):\n",
    "    data8[i]=np.append(data8[i],['8'])\n",
    "\n",
    "save_file(data8)    \n",
    "data_len += len(data8)\n",
    "del data8\n",
    "print(data_len)\n",
    "    "
   ]
  },
  {
   "cell_type": "code",
   "execution_count": 14,
   "metadata": {},
   "outputs": [
    {
     "name": "stdout",
     "output_type": "stream",
     "text": [
      "41377\n"
     ]
    }
   ],
   "source": [
    "data9=load_images_from_folder('9')\n",
    "\n",
    "for i in range(0,len(data9)):\n",
    "    data9[i]=np.append(data9[i],['9'])\n",
    "\n",
    "save_file(data9)    \n",
    "data_len += len(data9)\n",
    "del data9\n",
    "print(data_len)\n",
    "    "
   ]
  },
  {
   "cell_type": "code",
   "execution_count": 15,
   "metadata": {},
   "outputs": [
    {
     "name": "stdout",
     "output_type": "stream",
     "text": [
      "46377\n"
     ]
    }
   ],
   "source": [
    "#assign 'a'=10\n",
    "data10=load_images_from_folder('a')\n",
    "\n",
    "for i in range(0,len(data10)):\n",
    "    data10[i]=np.append(data10[i],['10'])\n",
    "\n",
    "save_file(data10)    \n",
    "data_len += len(data10)\n",
    "del data10\n",
    "print(data_len)\n",
    "    "
   ]
  },
  {
   "cell_type": "code",
   "execution_count": 16,
   "metadata": {},
   "outputs": [
    {
     "name": "stdout",
     "output_type": "stream",
     "text": [
      "51377\n"
     ]
    }
   ],
   "source": [
    "#assign 'b'=11\n",
    "data11=load_images_from_folder('b')\n",
    "\n",
    "for i in range(0,len(data11)):\n",
    "    data11[i]=np.append(data11[i],['11'])\n",
    "\n",
    "save_file(data11)    \n",
    "data_len += len(data11)\n",
    "del data11\n",
    "print(data_len)\n",
    "    "
   ]
  },
  {
   "cell_type": "code",
   "execution_count": 17,
   "metadata": {},
   "outputs": [
    {
     "name": "stdout",
     "output_type": "stream",
     "text": [
      "56377\n"
     ]
    }
   ],
   "source": [
    "#assign 'c'=12\n",
    "data12=load_images_from_folder('c')\n",
    "\n",
    "for i in range(0,len(data12)):\n",
    "    data12[i]=np.append(data12[i],['12'])\n",
    "\n",
    "save_file(data12)    \n",
    "data_len += len(data12)\n",
    "del data12\n",
    "print(data_len)\n",
    "    "
   ]
  },
  {
   "cell_type": "code",
   "execution_count": 18,
   "metadata": {},
   "outputs": [
    {
     "name": "stdout",
     "output_type": "stream",
     "text": [
      "61229\n"
     ]
    }
   ],
   "source": [
    "#assign 'd'=13\n",
    "data13=load_images_from_folder('d')\n",
    "\n",
    "for i in range(0,len(data13)):\n",
    "    data13[i]=np.append(data13[i],['13'])\n",
    "\n",
    "save_file(data13)    \n",
    "data_len += len(data13)\n",
    "del data13\n",
    "print(data_len)\n",
    "    "
   ]
  },
  {
   "cell_type": "code",
   "execution_count": 19,
   "metadata": {},
   "outputs": [
    {
     "name": "stdout",
     "output_type": "stream",
     "text": [
      "64232\n"
     ]
    }
   ],
   "source": [
    "#assign 'e'=14\n",
    "data14=load_images_from_folder('e')\n",
    "\n",
    "for i in range(0,len(data14)):\n",
    "    data14[i]=np.append(data14[i],['14'])\n",
    "\n",
    "save_file(data14)    \n",
    "data_len += len(data14)\n",
    "del data14\n",
    "print(data_len)\n",
    "    "
   ]
  },
  {
   "cell_type": "code",
   "execution_count": 20,
   "metadata": {},
   "outputs": [
    {
     "name": "stdout",
     "output_type": "stream",
     "text": [
      "67944\n"
     ]
    }
   ],
   "source": [
    "#assign 'f'=15\n",
    "data15=load_images_from_folder('f')\n",
    "\n",
    "for i in range(0,len(data15)):\n",
    "    data15[i]=np.append(data15[i],['15'])\n",
    "\n",
    "save_file(data15)    \n",
    "data_len += len(data15)\n",
    "del data15\n",
    "print(data_len)\n",
    "    "
   ]
  },
  {
   "cell_type": "code",
   "execution_count": 21,
   "metadata": {},
   "outputs": [
    {
     "name": "stdout",
     "output_type": "stream",
     "text": [
      "69636\n"
     ]
    }
   ],
   "source": [
    "#assign 'g'=16\n",
    "data16=load_images_from_folder('g')\n",
    "\n",
    "for i in range(0,len(data16)):\n",
    "    data16[i]=np.append(data16[i],['16'])\n",
    "\n",
    "save_file(data16)    \n",
    "data_len += len(data16)\n",
    "del data16\n",
    "print(data_len)\n",
    "    "
   ]
  },
  {
   "cell_type": "code",
   "execution_count": 22,
   "metadata": {},
   "outputs": [
    {
     "name": "stdout",
     "output_type": "stream",
     "text": [
      "71100\n"
     ]
    }
   ],
   "source": [
    "#assign 'h'=17\n",
    "data17=load_images_from_folder('h')\n",
    "\n",
    "for i in range(0,len(data17)):\n",
    "    data17[i]=np.append(data17[i],['17'])\n",
    "\n",
    "save_file(data17)    \n",
    "data_len += len(data17)\n",
    "del data17\n",
    "print(data_len)\n",
    "    "
   ]
  },
  {
   "cell_type": "code",
   "execution_count": 23,
   "metadata": {},
   "outputs": [
    {
     "name": "stdout",
     "output_type": "stream",
     "text": [
      "76100\n"
     ]
    }
   ],
   "source": [
    "#assign 'i'=18\n",
    "data18=load_images_from_folder('i')\n",
    "\n",
    "for i in range(0,len(data18)):\n",
    "    data18[i]=np.append(data18[i],['18'])\n",
    "\n",
    "save_file(data18)    \n",
    "data_len += len(data18)\n",
    "del data18\n",
    "print(data_len)\n",
    "    "
   ]
  },
  {
   "cell_type": "code",
   "execution_count": 24,
   "metadata": {},
   "outputs": [
    {
     "name": "stdout",
     "output_type": "stream",
     "text": [
      "77636\n"
     ]
    }
   ],
   "source": [
    "#assign 'j'=19\n",
    "data19=load_images_from_folder('j')\n",
    "\n",
    "for i in range(0,len(data19)):\n",
    "    data19[i]=np.append(data19[i],['19'])\n",
    "\n",
    "save_file(data19)    \n",
    "data_len += len(data19)\n",
    "del data19\n",
    "print(data_len)\n",
    "    "
   ]
  },
  {
   "cell_type": "code",
   "execution_count": 25,
   "metadata": {},
   "outputs": [
    {
     "name": "stdout",
     "output_type": "stream",
     "text": [
      "80710\n"
     ]
    }
   ],
   "source": [
    "#assign 'k'=20\n",
    "data20=load_images_from_folder('k')\n",
    "\n",
    "for i in range(0,len(data20)):\n",
    "    data20[i]=np.append(data20[i],['20'])\n",
    "\n",
    "save_file(data20)    \n",
    "data_len += len(data20)\n",
    "del data20\n",
    "print(data_len)\n"
   ]
  },
  {
   "cell_type": "code",
   "execution_count": 26,
   "metadata": {},
   "outputs": [
    {
     "name": "stdout",
     "output_type": "stream",
     "text": [
      "81727\n"
     ]
    }
   ],
   "source": [
    "#assign 'l'=21\n",
    "data21=load_images_from_folder('l')\n",
    "\n",
    "for i in range(0,len(data21)):\n",
    "    data21[i]=np.append(data21[i],['21'])\n",
    "\n",
    "save_file(data21)    \n",
    "data_len += len(data21)\n",
    "del data21\n",
    "print(data_len)\n",
    "    "
   ]
  },
  {
   "cell_type": "code",
   "execution_count": 27,
   "metadata": {},
   "outputs": [
    {
     "name": "stdout",
     "output_type": "stream",
     "text": [
      "84203\n"
     ]
    }
   ],
   "source": [
    "#assign 'm'=22\n",
    "data22=load_images_from_folder('m')\n",
    "\n",
    "for i in range(0,len(data22)):\n",
    "    data22[i]=np.append(data22[i],['22'])\n",
    "\n",
    "save_file(data22)    \n",
    "data_len += len(data22)\n",
    "del data22\n",
    "print(data_len)\n",
    "    "
   ]
  },
  {
   "cell_type": "code",
   "execution_count": 28,
   "metadata": {},
   "outputs": [
    {
     "name": "stdout",
     "output_type": "stream",
     "text": [
      "89203\n"
     ]
    }
   ],
   "source": [
    "#assign 'n'=23\n",
    "data23=load_images_from_folder('n')\n",
    "\n",
    "for i in range(0,len(data23)):\n",
    "    data23[i]=np.append(data23[i],['23'])\n",
    "\n",
    "save_file(data23)    \n",
    "data_len += len(data23)\n",
    "del data23\n",
    "print(data_len)\n",
    "    "
   ]
  },
  {
   "cell_type": "code",
   "execution_count": 29,
   "metadata": {},
   "outputs": [
    {
     "name": "stdout",
     "output_type": "stream",
     "text": [
      "89652\n"
     ]
    }
   ],
   "source": [
    "#assign 'o'=24\n",
    "data24=load_images_from_folder('o')\n",
    "\n",
    "for i in range(0,len(data24)):\n",
    "    data24[i]=np.append(data24[i],['24'])\n",
    "\n",
    "save_file(data24)    \n",
    "data_len += len(data24)\n",
    "del data24\n",
    "print(data_len)\n",
    "    "
   ]
  },
  {
   "cell_type": "code",
   "execution_count": 30,
   "metadata": {},
   "outputs": [
    {
     "name": "stdout",
     "output_type": "stream",
     "text": [
      "92332\n"
     ]
    }
   ],
   "source": [
    "#assign 'p'=25\n",
    "data25=load_images_from_folder('p')\n",
    "\n",
    "for i in range(0,len(data25)):\n",
    "    data25[i]=np.append(data25[i],['25'])\n",
    "\n",
    "save_file(data25)    \n",
    "data_len += len(data25)\n",
    "del data25\n",
    "print(data_len)\n",
    "    "
   ]
  },
  {
   "cell_type": "code",
   "execution_count": 31,
   "metadata": {},
   "outputs": [
    {
     "name": "stdout",
     "output_type": "stream",
     "text": [
      "93562\n"
     ]
    }
   ],
   "source": [
    "#assign 'q'=26\n",
    "data26=load_images_from_folder('q')\n",
    "\n",
    "for i in range(0,len(data26)):\n",
    "    data26[i]=np.append(data26[i],['26'])\n",
    "\n",
    "save_file(data26)    \n",
    "data_len += len(data26)\n",
    "del data26\n",
    "print(data_len)\n"
   ]
  },
  {
   "cell_type": "code",
   "execution_count": 32,
   "metadata": {},
   "outputs": [
    {
     "name": "stdout",
     "output_type": "stream",
     "text": [
      "96233\n"
     ]
    }
   ],
   "source": [
    "#assign 'r'=27\n",
    "data27=load_images_from_folder('r')\n",
    "\n",
    "for i in range(0,len(data27)):\n",
    "    data27[i]=np.append(data27[i],['27'])\n",
    "\n",
    "save_file(data27)    \n",
    "data_len += len(data27)\n",
    "del data27\n",
    "print(data_len)\n",
    "    "
   ]
  },
  {
   "cell_type": "code",
   "execution_count": 33,
   "metadata": {},
   "outputs": [
    {
     "name": "stdout",
     "output_type": "stream",
     "text": [
      "97646\n"
     ]
    }
   ],
   "source": [
    "#assign 's'=28\n",
    "data28=load_images_from_folder('s')\n",
    "\n",
    "for i in range(0,len(data28)):\n",
    "    data28[i]=np.append(data28[i],['28'])\n",
    "\n",
    "save_file(data28)    \n",
    "data_len += len(data28)\n",
    "del data28\n",
    "print(data_len)\n",
    "    "
   ]
  },
  {
   "cell_type": "code",
   "execution_count": 34,
   "metadata": {},
   "outputs": [
    {
     "name": "stdout",
     "output_type": "stream",
     "text": [
      "100920\n"
     ]
    }
   ],
   "source": [
    "#assign 't'=29\n",
    "data29=load_images_from_folder('t')\n",
    "\n",
    "for i in range(0,len(data29)):\n",
    "    data29[i]=np.append(data29[i],['29'])\n",
    "\n",
    "save_file(data29)    \n",
    "data_len += len(data29)\n",
    "del data29\n",
    "print(data_len)\n",
    "    "
   ]
  },
  {
   "cell_type": "code",
   "execution_count": 35,
   "metadata": {},
   "outputs": [
    {
     "name": "stdout",
     "output_type": "stream",
     "text": [
      "102189\n"
     ]
    }
   ],
   "source": [
    "#assign 'u'=30\n",
    "data30=load_images_from_folder('u')\n",
    "\n",
    "for i in range(0,len(data30)):\n",
    "    data30[i]=np.append(data30[i],['30'])\n",
    "\n",
    "save_file(data30)    \n",
    "data_len += len(data30)\n",
    "del data30\n",
    "print(data_len)\n",
    "    "
   ]
  },
  {
   "cell_type": "code",
   "execution_count": 36,
   "metadata": {},
   "outputs": [
    {
     "name": "stdout",
     "output_type": "stream",
     "text": [
      "103747\n"
     ]
    }
   ],
   "source": [
    "#assign 'v'=31\n",
    "data31=load_images_from_folder('v')\n",
    "\n",
    "for i in range(0,len(data31)):\n",
    "    data31[i]=np.append(data31[i],['31'])\n",
    "\n",
    "save_file(data31)    \n",
    "data_len += len(data31)\n",
    "del data31\n",
    "print(data_len)\n",
    "    "
   ]
  },
  {
   "cell_type": "code",
   "execution_count": 37,
   "metadata": {},
   "outputs": [
    {
     "name": "stdout",
     "output_type": "stream",
     "text": [
      "104303\n"
     ]
    }
   ],
   "source": [
    "#assign 'w'=32\n",
    "data32=load_images_from_folder('w')\n",
    "\n",
    "for i in range(0,len(data32)):\n",
    "    data32[i]=np.append(data32[i],['32'])\n",
    "\n",
    "save_file(data32)    \n",
    "data_len += len(data32)\n",
    "del data32\n",
    "print(data_len)\n",
    "    "
   ]
  },
  {
   "cell_type": "code",
   "execution_count": 38,
   "metadata": {},
   "outputs": [
    {
     "name": "stdout",
     "output_type": "stream",
     "text": [
      "109303\n"
     ]
    }
   ],
   "source": [
    "#assign 'x'=33\n",
    "data33=load_images_from_folder('x')\n",
    "\n",
    "for i in range(0,len(data33)):\n",
    "    data33[i]=np.append(data33[i],['33'])\n",
    "\n",
    "save_file(data33)    \n",
    "data_len += len(data33)\n",
    "del data33\n",
    "print(data_len)\n"
   ]
  },
  {
   "cell_type": "code",
   "execution_count": 39,
   "metadata": {},
   "outputs": [
    {
     "name": "stdout",
     "output_type": "stream",
     "text": [
      "114303\n"
     ]
    }
   ],
   "source": [
    "#assign 'y'=34\n",
    "data34=load_images_from_folder('y')\n",
    "\n",
    "for i in range(0,len(data34)):\n",
    "    data34[i]=np.append(data34[i],['34'])\n",
    "\n",
    "save_file(data34)    \n",
    "data_len += len(data34)\n",
    "del data34\n",
    "print(data_len)\n",
    "    "
   ]
  },
  {
   "cell_type": "code",
   "execution_count": 40,
   "metadata": {},
   "outputs": [
    {
     "name": "stdout",
     "output_type": "stream",
     "text": [
      "119303\n"
     ]
    }
   ],
   "source": [
    "#assign 'z'=35\n",
    "data35=load_images_from_folder('z')\n",
    "\n",
    "for i in range(0,len(data35)):\n",
    "    data35[i]=np.append(data35[i],['35'])\n",
    "\n",
    "save_file(data35)    \n",
    "data_len += len(data35)\n",
    "del data35\n",
    "print(data_len)\n"
   ]
  },
  {
   "cell_type": "code",
   "execution_count": 41,
   "metadata": {},
   "outputs": [
    {
     "name": "stdout",
     "output_type": "stream",
     "text": [
      "124303\n"
     ]
    }
   ],
   "source": [
    "#assign '-'=36\n",
    "data36=load_images_from_folder('-')\n",
    "\n",
    "for i in range(0,len(data36)):\n",
    "    data36[i]=np.append(data36[i],['36'])\n",
    "\n",
    "save_file(data36)    \n",
    "data_len += len(data36)\n",
    "del data36\n",
    "print(data_len)\n",
    "    "
   ]
  },
  {
   "cell_type": "code",
   "execution_count": 42,
   "metadata": {},
   "outputs": [
    {
     "name": "stdout",
     "output_type": "stream",
     "text": [
      "129303\n"
     ]
    }
   ],
   "source": [
    "#assign '+' = 37\n",
    "data37=load_images_from_folder('+')\n",
    "\n",
    "for i in range(0,len(data37)):\n",
    "    data37[i]=np.append(data37[i],['37'])\n",
    "\n",
    "save_file(data37)\n",
    "data_len += len(data37)\n",
    "del data37\n",
    "print(data_len)\n",
    "    "
   ]
  },
  {
   "cell_type": "code",
   "execution_count": 43,
   "metadata": {},
   "outputs": [
    {
     "name": "stdout",
     "output_type": "stream",
     "text": [
      "134303\n"
     ]
    }
   ],
   "source": [
    "#assign '('=38\n",
    "data38=load_images_from_folder('(')\n",
    "\n",
    "for i in range(0,len(data38)):\n",
    "    data38[i]=np.append(data38[i],['38'])\n",
    "\n",
    "save_file(data38)    \n",
    "data_len += len(data38)\n",
    "del data38\n",
    "print(data_len)\n",
    "    "
   ]
  },
  {
   "cell_type": "code",
   "execution_count": 44,
   "metadata": {},
   "outputs": [
    {
     "name": "stdout",
     "output_type": "stream",
     "text": [
      "139303\n"
     ]
    }
   ],
   "source": [
    "#assign ')'=39\n",
    "data39=load_images_from_folder(')')\n",
    "\n",
    "for i in range(0,len(data39)):\n",
    "    data39[i]=np.append(data39[i],['39'])\n",
    "\n",
    "save_file(data39)    \n",
    "data_len += len(data39)\n",
    "del data39\n",
    "print(data_len)\n",
    "    "
   ]
  },
  {
   "cell_type": "code",
   "execution_count": 45,
   "metadata": {
    "tags": []
   },
   "outputs": [
    {
     "name": "stdout",
     "output_type": "stream",
     "text": [
      "144303\n"
     ]
    }
   ],
   "source": [
    "#assign '='=40\n",
    "data40=load_images_from_folder('=')\n",
    "\n",
    "for i in range(0,len(data40)):\n",
    "    data40[i]=np.append(data40[i],['40'])\n",
    "\n",
    "save_file(data40)    \n",
    "data_len += len(data40)\n",
    "del data40\n",
    "print(data_len)\n",
    "    "
   ]
  },
  {
   "cell_type": "code",
   "execution_count": 46,
   "metadata": {},
   "outputs": [
    {
     "name": "stdout",
     "output_type": "stream",
     "text": [
      "145171\n"
     ]
    }
   ],
   "source": [
    "#assign '/'=41\n",
    "data41=load_images_from_folder('div')\n",
    "\n",
    "for i in range(0,len(data41)):\n",
    "    data41[i]=np.append(data41[i],['41'])\n",
    "    \n",
    "save_file(data41)    \n",
    "data_len += len(data41)\n",
    "del data41\n",
    "print(data_len)\n",
    "        "
   ]
  },
  {
   "cell_type": "code",
   "execution_count": null,
   "metadata": {},
   "outputs": [],
   "source": []
  }
 ],
 "metadata": {
  "kernelspec": {
   "display_name": "Python 3",
   "language": "python",
   "name": "python3"
  },
  "language_info": {
   "codemirror_mode": {
    "name": "ipython",
    "version": 3
   },
   "file_extension": ".py",
   "mimetype": "text/x-python",
   "name": "python",
   "nbconvert_exporter": "python",
   "pygments_lexer": "ipython3",
   "version": "3.7.8"
  }
 },
 "nbformat": 4,
 "nbformat_minor": 4
}
